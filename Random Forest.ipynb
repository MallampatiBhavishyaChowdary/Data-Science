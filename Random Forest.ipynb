{
 "cells": [
  {
   "cell_type": "code",
   "execution_count": 8,
   "id": "50742ea8",
   "metadata": {},
   "outputs": [
    {
     "name": "stdout",
     "output_type": "stream",
     "text": [
      "0    S\n",
      "Name: Embarked, dtype: object\n",
      "Accuracy score of training data:  0.9859550561797753\n",
      "Accuracy score of test data:  0.8100558659217877\n"
     ]
    }
   ],
   "source": [
    "import pandas as pd \n",
    "import numpy as np \n",
    " \n",
    "titanic_data=pd.read_csv(r\"C:\\Users\\Mallampati Bhavishya\\Documents\\train.csv\") \n",
    " \n",
    "titanic_data.head() \n",
    " \n",
    "titanic_data.isnull().sum() \n",
    " \n",
    "titanic_data=titanic_data.drop(columns='Cabin',axis=1) \n",
    " \n",
    "titanic_data['Age'].fillna(titanic_data['Age'].mean(),inplace=True) \n",
    " \n",
    "print(titanic_data['Embarked'].mode()) \n",
    " \n",
    "titanic_data['Embarked'].fillna(titanic_data['Embarked'].mode()[0],inplace=True) \n",
    " \n",
    "titanic_data.replace({'Sex':{'male':0,'female':1},\"Embarked\":{'S':0,'C':1,'Q':2}},inplace=True) \n",
    " \n",
    "#titanic_data=titanic_data.drop(columns=['PassengerId','Name','ticket','Survived'],axis=1) \n",
    " \n",
    "X=titanic_data.drop(columns=['PassengerId','Name','Ticket','Survived'],axis=1) \n",
    "Y=titanic_data['Survived'] \n",
    " \n",
    "from sklearn.model_selection import KFold, cross_val_score, train_test_split \n",
    " \n",
    "X_train, X_test, Y_train, Y_test = train_test_split(X,Y, test_size=0.2, random_state=2) \n",
    " \n",
    "from sklearn.ensemble import RandomForestClassifier \n",
    " \n",
    "model=RandomForestClassifier() \n",
    " \n",
    " \n",
    " \n",
    " \n",
    "model.fit(X_train, Y_train) \n",
    " \n",
    "X_train_prediction=model.predict(X_train) \n",
    " \n",
    "from sklearn.metrics import accuracy_score \n",
    " \n",
    "training_data_accuracy = accuracy_score(Y_train, X_train_prediction) \n",
    "print('Accuracy score of training data: ', training_data_accuracy) \n",
    " \n",
    "X_test_prediction = model.predict(X_test) \n",
    "test_data_accuracy = accuracy_score(Y_test, X_test_prediction) \n",
    "print('Accuracy score of test data: ', test_data_accuracy) "
   ]
  },
  {
   "cell_type": "code",
   "execution_count": 10,
   "id": "3bfcb795",
   "metadata": {},
   "outputs": [
    {
     "data": {
      "text/html": [
       "<div>\n",
       "<style scoped>\n",
       "    .dataframe tbody tr th:only-of-type {\n",
       "        vertical-align: middle;\n",
       "    }\n",
       "\n",
       "    .dataframe tbody tr th {\n",
       "        vertical-align: top;\n",
       "    }\n",
       "\n",
       "    .dataframe thead th {\n",
       "        text-align: right;\n",
       "    }\n",
       "</style>\n",
       "<table border=\"1\" class=\"dataframe\">\n",
       "  <thead>\n",
       "    <tr style=\"text-align: right;\">\n",
       "      <th></th>\n",
       "      <th>PassengerId</th>\n",
       "      <th>Survived</th>\n",
       "      <th>Pclass</th>\n",
       "      <th>Name</th>\n",
       "      <th>Sex</th>\n",
       "      <th>Age</th>\n",
       "      <th>SibSp</th>\n",
       "      <th>Parch</th>\n",
       "      <th>Ticket</th>\n",
       "      <th>Fare</th>\n",
       "      <th>Cabin</th>\n",
       "      <th>Embarked</th>\n",
       "    </tr>\n",
       "  </thead>\n",
       "  <tbody>\n",
       "    <tr>\n",
       "      <th>0</th>\n",
       "      <td>1</td>\n",
       "      <td>0</td>\n",
       "      <td>3</td>\n",
       "      <td>Braund, Mr. Owen Harris</td>\n",
       "      <td>male</td>\n",
       "      <td>22.0</td>\n",
       "      <td>1</td>\n",
       "      <td>0</td>\n",
       "      <td>A/5 21171</td>\n",
       "      <td>7.2500</td>\n",
       "      <td>NaN</td>\n",
       "      <td>S</td>\n",
       "    </tr>\n",
       "    <tr>\n",
       "      <th>1</th>\n",
       "      <td>2</td>\n",
       "      <td>1</td>\n",
       "      <td>1</td>\n",
       "      <td>Cumings, Mrs. John Bradley (Florence Briggs Th...</td>\n",
       "      <td>female</td>\n",
       "      <td>38.0</td>\n",
       "      <td>1</td>\n",
       "      <td>0</td>\n",
       "      <td>PC 17599</td>\n",
       "      <td>71.2833</td>\n",
       "      <td>C85</td>\n",
       "      <td>C</td>\n",
       "    </tr>\n",
       "    <tr>\n",
       "      <th>2</th>\n",
       "      <td>3</td>\n",
       "      <td>1</td>\n",
       "      <td>3</td>\n",
       "      <td>Heikkinen, Miss. Laina</td>\n",
       "      <td>female</td>\n",
       "      <td>26.0</td>\n",
       "      <td>0</td>\n",
       "      <td>0</td>\n",
       "      <td>STON/O2. 3101282</td>\n",
       "      <td>7.9250</td>\n",
       "      <td>NaN</td>\n",
       "      <td>S</td>\n",
       "    </tr>\n",
       "    <tr>\n",
       "      <th>3</th>\n",
       "      <td>4</td>\n",
       "      <td>1</td>\n",
       "      <td>1</td>\n",
       "      <td>Futrelle, Mrs. Jacques Heath (Lily May Peel)</td>\n",
       "      <td>female</td>\n",
       "      <td>35.0</td>\n",
       "      <td>1</td>\n",
       "      <td>0</td>\n",
       "      <td>113803</td>\n",
       "      <td>53.1000</td>\n",
       "      <td>C123</td>\n",
       "      <td>S</td>\n",
       "    </tr>\n",
       "    <tr>\n",
       "      <th>4</th>\n",
       "      <td>5</td>\n",
       "      <td>0</td>\n",
       "      <td>3</td>\n",
       "      <td>Allen, Mr. William Henry</td>\n",
       "      <td>male</td>\n",
       "      <td>35.0</td>\n",
       "      <td>0</td>\n",
       "      <td>0</td>\n",
       "      <td>373450</td>\n",
       "      <td>8.0500</td>\n",
       "      <td>NaN</td>\n",
       "      <td>S</td>\n",
       "    </tr>\n",
       "  </tbody>\n",
       "</table>\n",
       "</div>"
      ],
      "text/plain": [
       "   PassengerId  Survived  Pclass  \\\n",
       "0            1         0       3   \n",
       "1            2         1       1   \n",
       "2            3         1       3   \n",
       "3            4         1       1   \n",
       "4            5         0       3   \n",
       "\n",
       "                                                Name     Sex   Age  SibSp  \\\n",
       "0                            Braund, Mr. Owen Harris    male  22.0      1   \n",
       "1  Cumings, Mrs. John Bradley (Florence Briggs Th...  female  38.0      1   \n",
       "2                             Heikkinen, Miss. Laina  female  26.0      0   \n",
       "3       Futrelle, Mrs. Jacques Heath (Lily May Peel)  female  35.0      1   \n",
       "4                           Allen, Mr. William Henry    male  35.0      0   \n",
       "\n",
       "   Parch            Ticket     Fare Cabin Embarked  \n",
       "0      0         A/5 21171   7.2500   NaN        S  \n",
       "1      0          PC 17599  71.2833   C85        C  \n",
       "2      0  STON/O2. 3101282   7.9250   NaN        S  \n",
       "3      0            113803  53.1000  C123        S  \n",
       "4      0            373450   8.0500   NaN        S  "
      ]
     },
     "execution_count": 10,
     "metadata": {},
     "output_type": "execute_result"
    }
   ],
   "source": [
    "import pandas as pd \n",
    "import numpy as np \n",
    " \n",
    "titanic_data=pd.read_csv(r\"C:\\Users\\Mallampati Bhavishya\\Documents\\train.csv\") \n",
    " \n",
    "titanic_data.head() "
   ]
  },
  {
   "cell_type": "code",
   "execution_count": 11,
   "id": "e8682883",
   "metadata": {},
   "outputs": [
    {
     "data": {
      "text/plain": [
       "PassengerId      0\n",
       "Survived         0\n",
       "Pclass           0\n",
       "Name             0\n",
       "Sex              0\n",
       "Age            177\n",
       "SibSp            0\n",
       "Parch            0\n",
       "Ticket           0\n",
       "Fare             0\n",
       "Cabin          687\n",
       "Embarked         2\n",
       "dtype: int64"
      ]
     },
     "execution_count": 11,
     "metadata": {},
     "output_type": "execute_result"
    }
   ],
   "source": [
    "titanic_data.isnull().sum() "
   ]
  },
  {
   "cell_type": "code",
   "execution_count": 13,
   "id": "1f7c5b92",
   "metadata": {},
   "outputs": [
    {
     "name": "stdout",
     "output_type": "stream",
     "text": [
      "0    S\n",
      "Name: Embarked, dtype: object\n",
      "Accuracy score of training data:  0.9859550561797753\n"
     ]
    }
   ],
   "source": [
    "titanic_data=titanic_data.drop(columns='Cabin',axis=1) \n",
    " \n",
    "titanic_data['Age'].fillna(titanic_data['Age'].mean(),inplace=True) \n",
    " \n",
    "print(titanic_data['Embarked'].mode()) \n",
    " \n",
    "titanic_data['Embarked'].fillna(titanic_data['Embarked'].mode()[0],inplace=True) \n",
    " \n",
    "titanic_data.replace({'Sex':{'male':0,'female':1},\"Embarked\":{'S':0,'C':1,'Q':2}},inplace=True) \n",
    " \n",
    "#titanic_data=titanic_data.drop(columns=['PassengerId','Name','ticket','Survived'],axis=1) \n",
    " \n",
    "X=titanic_data.drop(columns=['PassengerId','Name','Ticket','Survived'],axis=1) \n",
    "Y=titanic_data['Survived'] \n",
    " \n",
    "from sklearn.model_selection import KFold, cross_val_score, train_test_split \n",
    " \n",
    "X_train, X_test, Y_train, Y_test = train_test_split(X,Y, test_size=0.2, random_state=2) \n",
    " \n",
    "from sklearn.ensemble import RandomForestClassifier \n",
    " \n",
    "model=RandomForestClassifier() \n",
    " \n",
    " \n",
    " \n",
    " \n",
    "model.fit(X_train, Y_train) \n",
    " \n",
    "X_train_prediction=model.predict(X_train) \n",
    " \n",
    "from sklearn.metrics import accuracy_score \n",
    " \n",
    "training_data_accuracy = accuracy_score(Y_train, X_train_prediction) \n",
    "print('Accuracy score of training data: ', training_data_accuracy) "
   ]
  },
  {
   "cell_type": "code",
   "execution_count": 14,
   "id": "21cb72f5",
   "metadata": {},
   "outputs": [
    {
     "name": "stdout",
     "output_type": "stream",
     "text": [
      "Accuracy score of test data:  0.8100558659217877\n"
     ]
    }
   ],
   "source": [
    "X_test_prediction = model.predict(X_test) \n",
    "test_data_accuracy = accuracy_score(Y_test, X_test_prediction) \n",
    "print('Accuracy score of test data: ', test_data_accuracy) "
   ]
  },
  {
   "cell_type": "code",
   "execution_count": 15,
   "id": "bfbe2822",
   "metadata": {},
   "outputs": [
    {
     "data": {
      "image/png": "[encoded data removed]",
      "text/plain": [
       "<Figure size 640x480 with 2 Axes>"
      ]
     },
     "metadata": {},
     "output_type": "display_data"
    }
   ],
   "source": [
    "import matplotlib.pyplot as plt\n",
    "import numpy\n",
    "from sklearn import metrics\n",
    "\n",
    "actual = numpy.random.binomial(1,.9,size = 1000)\n",
    "predicted = numpy.random.binomial(1,.9,size = 1000)\n",
    "\n",
    "confusion_matrix = metrics.confusion_matrix(actual, predicted)\n",
    "\n",
    "cm_display = metrics.ConfusionMatrixDisplay(confusion_matrix = confusion_matrix, display_labels = [False, True])\n",
    "\n",
    "cm_display.plot()\n",
    "plt.show()"
   ]
  },
  {
   "cell_type": "code",
   "execution_count": null,
   "id": "553d9c60",
   "metadata": {},
   "outputs": [],
   "source": []
  }
 ],
 "metadata": {
  "kernelspec": {
   "display_name": "Python 3 (ipykernel)",
   "language": "python",
   "name": "python3"
  },
  "language_info": {
   "codemirror_mode": {
    "name": "ipython",
    "version": 3
   },
   "file_extension": ".py",
   "mimetype": "text/x-python",
   "name": "python",
   "nbconvert_exporter": "python",
   "pygments_lexer": "ipython3",
   "version": "3.9.13"
  }
 },
 "nbformat": 4,
 "nbformat_minor": 5
}
