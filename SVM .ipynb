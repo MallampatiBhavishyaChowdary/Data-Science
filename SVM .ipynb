{
 "cells": [
  {
   "cell_type": "code",
   "execution_count": 11,
   "id": "6c3e02fa",
   "metadata": {},
   "outputs": [
    {
     "name": "stderr",
     "output_type": "stream",
     "text": [
      "C:\\Users\\Mallampati Bhavishya\\anaconda3\\lib\\site-packages\\sklearn\\linear_model\\_logistic.py:814: ConvergenceWarning: lbfgs failed to converge (status=1):\n",
      "STOP: TOTAL NO. of ITERATIONS REACHED LIMIT.\n",
      "\n",
      "Increase the number of iterations (max_iter) or scale the data as shown in:\n",
      "    https://scikit-learn.org/stable/modules/preprocessing.html\n",
      "Please also refer to the documentation for alternative solver options:\n",
      "    https://scikit-learn.org/stable/modules/linear_model.html#logistic-regression\n",
      "  n_iter_i = _check_optimize_result(\n"
     ]
    },
    {
     "name": "stdout",
     "output_type": "stream",
     "text": [
      "Logistic Regression Accuracy: 0.958041958041958\n",
      "SVM Accuracy: 0.958041958041958\n",
      "\n",
      "Logistic Regression Confusion Matrix:\n",
      " [[50  4]\n",
      " [ 2 87]]\n",
      "SVM Confusion Matrix:\n",
      " [[50  4]\n",
      " [ 2 87]]\n",
      "\n",
      "Logistic Regression Precision: 0.9560439560439561\n",
      "SVM Precision: 0.9560439560439561\n",
      "\n",
      "Logistic Regression Recall: 0.9775280898876404\n",
      "SVM Recall: 0.9775280898876404\n",
      "\n",
      "Logistic Regression True Positive Rate: 0.9615384615384616\n",
      "SVM True Positive Rate: 0.9615384615384616\n",
      "\n",
      "Logistic Regression False Positive Rate: 0.04395604395604396\n",
      "SVM False Positive Rate: 0.04395604395604396\n"
     ]
    }
   ],
   "source": [
    "from sklearn.datasets import load_breast_cancer\n",
    "from sklearn.model_selection import train_test_split\n",
    "from sklearn.linear_model import LogisticRegression\n",
    "from sklearn.metrics import accuracy_score, confusion_matrix, precision_score, recall_score\n",
    "\n",
    "# Load the breast cancer dataset\n",
    "data = load_breast_cancer()\n",
    "\n",
    "# Split the data into training and testing sets\n",
    "X_train, X_test, y_train, y_test = train_test_split(data.data, data.target, random_state=42)\n",
    "\n",
    "# Train a logistic regression model\n",
    "lr = LogisticRegression(random_state=42, max_iter=1000)\n",
    "lr.fit(X_train, y_train)\n",
    "\n",
    "# Make predictions on the testing set\n",
    "lr_pred = lr.predict(X_test)\n",
    "\n",
    "# Calculate the accuracy, confusion matrix, precision, recall, and true positive rate of the logistic regression model\n",
    "lr_acc = accuracy_score(y_test, lr_pred)\n",
    "lr_cm = confusion_matrix(y_test, lr_pred)\n",
    "lr_precision = precision_score(y_test, lr_pred)\n",
    "lr_recall = recall_score(y_test, lr_pred)\n",
    "lr_tpr = lr_cm[0, 0] / (lr_cm[0, 0] + lr_cm[1, 0])\n",
    "lr_fpr = lr_cm[0, 1] / (lr_cm[0, 1] + lr_cm[1, 1])\n",
    "\n",
    "# Train a support vector machine model\n",
    "from sklearn.svm import SVC\n",
    "svm_model = SVC(kernel='linear', random_state=42)\n",
    "svm_model.fit(X_train, y_train)\n",
    "svm_accuracy = svm_model.score(X_test, y_test)\n",
    "svm_pred = svm_model.predict(X_test)\n",
    "svm_acc = accuracy_score(y_test, svm_pred)\n",
    "\n",
    "# Calculate the accuracy, confusion matrix, precision, recall, and true positive rate of the support vector machine model\n",
    "svm_cm = confusion_matrix(y_test, svm_pred)\n",
    "svm_precision = precision_score(y_test, svm_pred)\n",
    "svm_recall = recall_score(y_test, svm_pred)\n",
    "svm_tpr = svm_cm[0, 0] / (svm_cm[0, 0] + svm_cm[1, 0])\n",
    "svm_fpr = svm_cm[0, 1] / (svm_cm[0, 1] + svm_cm[1, 1])\n",
    "\n",
    "# Compare the accuracies and other metrics of the two models\n",
    "print(\"Logistic Regression Accuracy:\", lr_acc)\n",
    "print(\"SVM Accuracy:\", svm_acc)\n",
    "print(\"\\nLogistic Regression Confusion Matrix:\\n\", lr_cm)\n",
    "print(\"SVM Confusion Matrix:\\n\", svm_cm)\n",
    "print(\"\\nLogistic Regression Precision:\", lr_precision)\n",
    "print(\"SVM Precision:\", svm_precision)\n",
    "print(\"\\nLogistic Regression Recall:\", lr_recall)\n",
    "print(\"SVM Recall:\", svm_recall)\n",
    "print(\"\\nLogistic Regression True Positive Rate:\", lr_tpr)\n",
    "print(\"SVM True Positive Rate:\", svm_tpr)\n",
    "print(\"\\nLogistic Regression False Positive Rate:\", lr_fpr)\n",
    "print(\"SVM False Positive Rate:\", svm_fpr)\n"
   ]
  },
  {
   "cell_type": "code",
   "execution_count": null,
   "id": "109d7ef4",
   "metadata": {},
   "outputs": [],
   "source": []
  }
 ],
 "metadata": {
  "kernelspec": {
   "display_name": "Python 3 (ipykernel)",
   "language": "python",
   "name": "python3"
  },
  "language_info": {
   "codemirror_mode": {
    "name": "ipython",
    "version": 3
   },
   "file_extension": ".py",
   "mimetype": "text/x-python",
   "name": "python",
   "nbconvert_exporter": "python",
   "pygments_lexer": "ipython3",
   "version": "3.9.13"
  }
 },
 "nbformat": 4,
 "nbformat_minor": 5
}
