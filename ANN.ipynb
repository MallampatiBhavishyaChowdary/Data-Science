{
 "cells": [
  {
   "cell_type": "code",
   "execution_count": 1,
   "id": "ae6688e3",
   "metadata": {},
   "outputs": [
    {
     "name": "stdout",
     "output_type": "stream",
     "text": [
      "Logistic Regression Accuracy: 0.9736842105263158\n",
      "ANN Accuracy: 0.956140350877193\n",
      "\n",
      "Logistic Regression Confusion Matrix:\n",
      " [[41  2]\n",
      " [ 1 70]]\n",
      "ANN Confusion Matrix:\n",
      " [[41  2]\n",
      " [ 3 68]]\n",
      "\n",
      "Logistic Regression Precision: 0.9722222222222222\n",
      "ANN Precision: 0.9714285714285714\n",
      "\n",
      "Logistic Regression Recall: 0.9859154929577465\n",
      "ANN Recall: 0.9577464788732394\n",
      "\n",
      "Logistic Regression F1 Score: 0.979020979020979\n",
      "ANN F1 Score: 0.9645390070921985\n"
     ]
    }
   ],
   "source": [
    "from sklearn.datasets import load_breast_cancer\n",
    "from sklearn.model_selection import train_test_split\n",
    "from sklearn.preprocessing import StandardScaler\n",
    "from sklearn.linear_model import LogisticRegression\n",
    "from sklearn.metrics import confusion_matrix, precision_score, recall_score, f1_score\n",
    "from sklearn.neural_network import MLPClassifier\n",
    "\n",
    "# Load the breast cancer dataset\n",
    "data = load_breast_cancer()\n",
    "\n",
    "# Split the data into training and testing sets\n",
    "X_train, X_test, y_train, y_test = train_test_split(data.data, data.target, test_size=0.2, random_state=42)\n",
    "\n",
    "# Scale the data for better performance\n",
    "scaler = StandardScaler()\n",
    "X_train = scaler.fit_transform(X_train)\n",
    "X_test = scaler.transform(X_test)\n",
    "\n",
    "# Train a logistic regression model and compute its accuracy and confusion matrix\n",
    "lr_model = LogisticRegression(random_state=42)\n",
    "lr_model.fit(X_train, y_train)\n",
    "lr_accuracy = lr_model.score(X_test, y_test)\n",
    "lr_pred = lr_model.predict(X_test)\n",
    "lr_cm = confusion_matrix(y_test, lr_pred)\n",
    "lr_precision = precision_score(y_test, lr_pred)\n",
    "lr_recall = recall_score(y_test, lr_pred)\n",
    "lr_f1_score = f1_score(y_test, lr_pred)\n",
    "\n",
    "# Train an ANN and compute its accuracy and confusion matrix\n",
    "ann_model = MLPClassifier(hidden_layer_sizes=(30, 30, 30), max_iter=1000)\n",
    "ann_model.fit(X_train, y_train)\n",
    "ann_accuracy = ann_model.score(X_test, y_test)\n",
    "ann_pred = ann_model.predict(X_test)\n",
    "ann_cm = confusion_matrix(y_test, ann_pred)\n",
    "ann_precision = precision_score(y_test, ann_pred)\n",
    "ann_recall = recall_score(y_test, ann_pred)\n",
    "ann_f1_score = f1_score(y_test, ann_pred)\n",
    "\n",
    "# Compare the accuracies and other metrics of the two models\n",
    "print(\"Logistic Regression Accuracy:\", lr_accuracy)\n",
    "print(\"ANN Accuracy:\", ann_accuracy)\n",
    "print(\"\\nLogistic Regression Confusion Matrix:\\n\", lr_cm)\n",
    "print(\"ANN Confusion Matrix:\\n\", ann_cm)\n",
    "print(\"\\nLogistic Regression Precision:\", lr_precision)\n",
    "print(\"ANN Precision:\", ann_precision)\n",
    "print(\"\\nLogistic Regression Recall:\", lr_recall)\n",
    "print(\"ANN Recall:\", ann_recall)\n",
    "print(\"\\nLogistic Regression F1 Score:\", lr_f1_score)\n",
    "print(\"ANN F1 Score:\", ann_f1_score)\n"
   ]
  },
  {
   "cell_type": "code",
   "execution_count": null,
   "id": "1c8df600",
   "metadata": {},
   "outputs": [],
   "source": []
  }
 ],
 "metadata": {
  "kernelspec": {
   "display_name": "Python 3 (ipykernel)",
   "language": "python",
   "name": "python3"
  },
  "language_info": {
   "codemirror_mode": {
    "name": "ipython",
    "version": 3
   },
   "file_extension": ".py",
   "mimetype": "text/x-python",
   "name": "python",
   "nbconvert_exporter": "python",
   "pygments_lexer": "ipython3",
   "version": "3.9.13"
  }
 },
 "nbformat": 4,
 "nbformat_minor": 5
}
