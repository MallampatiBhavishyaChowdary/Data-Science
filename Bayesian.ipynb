{
 "cells": [
  {
   "cell_type": "code",
   "execution_count": 1,
   "id": "df085494",
   "metadata": {},
   "outputs": [
    {
     "name": "stdout",
     "output_type": "stream",
     "text": [
      "Training Accuracy: 0.9396984924623115\n",
      "Testing Accuracy: 0.9415204678362573\n",
      "Confusion Matrix:\n",
      " [[ 57   6]\n",
      " [  4 104]]\n",
      "Precision: 0.9454545454545454\n",
      "Recall: 0.9629629629629629\n",
      "True Positive Rate: 0.9629629629629629\n",
      "False Positive Rate: 0.09523809523809523\n"
     ]
    }
   ],
   "source": [
    "from sklearn.datasets import load_breast_cancer\n",
    "from sklearn.naive_bayes import GaussianNB\n",
    "from sklearn.model_selection import train_test_split\n",
    "from sklearn.metrics import accuracy_score, confusion_matrix, precision_score, recall_score\n",
    "\n",
    "# Load the breast cancer dataset\n",
    "data = load_breast_cancer()\n",
    "X = data.data\n",
    "y = data.target\n",
    "\n",
    "# Split the dataset into training and testing sets\n",
    "X_train, X_test, y_train, y_test = train_test_split(X, y, test_size=0.3, random_state=42)\n",
    "\n",
    "# Train the Naive Bayesian Classifier model\n",
    "nb_model = GaussianNB()\n",
    "nb_model.fit(X_train, y_train)\n",
    "\n",
    "# Predict the target variable for the training and testing sets\n",
    "train_pred = nb_model.predict(X_train)\n",
    "test_pred = nb_model.predict(X_test)\n",
    "\n",
    "# Compute the training and testing accuracies\n",
    "train_acc = accuracy_score(y_train, train_pred)\n",
    "test_acc = accuracy_score(y_test, test_pred)\n",
    "\n",
    "# Compute the confusion matrix, precision, recall, and true positive rate and false positive rate for testing set\n",
    "test_cm = confusion_matrix(y_test, test_pred)\n",
    "test_precision = precision_score(y_test, test_pred)\n",
    "test_recall = recall_score(y_test, test_pred)\n",
    "test_TPR = test_cm[1, 1] / (test_cm[1, 1] + test_cm[1, 0])\n",
    "test_FPR = test_cm[0, 1] / (test_cm[0, 1] + test_cm[0, 0])\n",
    "\n",
    "print(\"Training Accuracy:\", train_acc)\n",
    "print(\"Testing Accuracy:\", test_acc)\n",
    "print(\"Confusion Matrix:\\n\", test_cm)\n",
    "print(\"Precision:\", test_precision)\n",
    "print(\"Recall:\", test_recall)\n",
    "print(\"True Positive Rate:\", test_TPR)\n",
    "print(\"False Positive Rate:\", test_FPR)\n"
   ]
  },
  {
   "cell_type": "code",
   "execution_count": null,
   "id": "eef8a9ee",
   "metadata": {},
   "outputs": [],
   "source": []
  }
 ],
 "metadata": {
  "kernelspec": {
   "display_name": "Python 3 (ipykernel)",
   "language": "python",
   "name": "python3"
  },
  "language_info": {
   "codemirror_mode": {
    "name": "ipython",
    "version": 3
   },
   "file_extension": ".py",
   "mimetype": "text/x-python",
   "name": "python",
   "nbconvert_exporter": "python",
   "pygments_lexer": "ipython3",
   "version": "3.9.13"
  }
 },
 "nbformat": 4,
 "nbformat_minor": 5
}
